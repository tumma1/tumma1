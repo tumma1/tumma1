{
 "cells": [
  {
   "cell_type": "code",
   "execution_count": null,
   "source": [
    "import nltk\r\n",
    "nltk.download('stopwords')\r\n",
    "import numpy as np\r\n",
    "import pandas as pd\r\n",
    "from sklearn.preprocessing import LabelEncoder\r\n",
    "import re\r\n",
    "import scipy\r\n",
    "from  sklearn import metrics\r\n",
    "df = pd.read_table(\"SMSSpamCollection\", header=None)\r\n",
    "df.head()\r\n",
    "df.info()\r\n",
    "y = df[0]\r\n",
    "y.value_counts()\r\n",
    "\r\n",
    "#2) Working on datacleaning \r\n",
    "\r\n",
    "processed = raw_text.str.replace(r'\\b[\\w\\-.]+?@\\w+?\\.\\w{2,4}\\b',\r\n",
    "                                 'emailaddr')\r\n",
    "processed = processed.str.replace(r'(http[s]?\\S+)|(\\w+\\.[A-Za-z]{2,4}\\S*)',\r\n",
    "                                  'httpaddr')\r\n",
    "processed = processed.str.replace(r'£|\\$', 'moneysymb')    \r\n",
    "processed = processed.str.replace(\r\n",
    "    r'\\b(\\+\\d{1,2}\\s)?\\d?[\\-(.]?\\d{3}\\)?[\\s.-]?\\d{3}[\\s.-]?\\d{4}\\b',\r\n",
    "    'phonenumbr')    \r\n",
    "processed = processed.str.replace(r'\\d+(\\.\\d+)?', 'numbr')\r\n",
    "processed = raw_text.str.replace(r'\\b[\\w\\-.]+?@\\w+?\\.\\w{2,4}\\b',\r\n",
    "                                 'emailaddr')\r\n",
    "processed = processed.str.replace(r'(http[s]?\\S+)|(\\w+\\.[A-Za-z]{2,4}\\S*)',\r\n",
    "                                  'httpaddr')\r\n",
    "processed = processed.str.replace(r'£|\\$', 'moneysymb')    \r\n",
    "processed = processed.str.replace(\r\n",
    "    r'\\b(\\+\\d{1,2}\\s)?\\d?[\\-(.]?\\d{3}\\)?[\\s.-]?\\d{3}[\\s.-]?\\d{4}\\b',\r\n",
    "    'phonenumbr')    \r\n",
    "processed = processed.str.replace(r'\\d+(\\.\\d+)?', 'numbr')\r\n",
    "processed = processed.str.lower()\r\n",
    "stop_words = nltk.corpus.stopwords.words('english')\r\n",
    "processed = processed.apply(lambda x: ' '.join(\r\n",
    "    term for term in x.split() if term not in set(stop_words))\r\n",
    ")\r\n",
    "porter = nltk.PorterStemmer()\r\n",
    "processed = processed.apply(lambda x: ' '.join(\r\n",
    "    porter.stem(term) for term in x.split())\r\n",
    ")\r\n",
    "def preprocess_text(messy_string):\r\n",
    "    assert(type(messy_string) == str)\r\n",
    "    cleaned = re.sub(r'\\b[\\w\\-.]+?@\\w+?\\.\\w{2,4}\\b', 'emailaddr', messy_string)\r\n",
    "    cleaned = re.sub(r'(http[s]?\\S+)|(\\w+\\.[A-Za-z]{2,4}\\S*)', 'httpaddr',\r\n",
    "                     cleaned)\r\n",
    "    cleaned = re.sub(r'£|\\$', 'moneysymb', cleaned)\r\n",
    "    cleaned = re.sub(\r\n",
    "        r'\\b(\\+\\d{1,2}\\s)?\\d?[\\-(.]?\\d{3}\\)?[\\s.-]?\\d{3}[\\s.-]?\\d{4}\\b',\r\n",
    "        'phonenumbr', cleaned)\r\n",
    "    cleaned = re.sub(r'\\d+(\\.\\d+)?', 'numbr', cleaned)\r\n",
    "    cleaned = re.sub(r'[^\\w\\d\\s]', ' ', cleaned)\r\n",
    "    cleaned = re.sub(r'\\s+', ' ', cleaned)\r\n",
    "    cleaned = re.sub(r'^\\s+|\\s+?$', '', cleaned.lower())\r\n",
    "    return ' '.join(\r\n",
    "        porter.stem(term) \r\n",
    "        for term in cleaned.split()\r\n",
    "        if term not in set(stop_words)\r\n",
    "    )"
   ],
   "outputs": [],
   "metadata": {}
  }
 ],
 "metadata": {
  "orig_nbformat": 4,
  "language_info": {
   "name": "plaintext"
  }
 },
 "nbformat": 4,
 "nbformat_minor": 2
}
(processed == raw_text.apply(preprocess_text)).all()
vectorizer = TfidfVectorizer(ngram_range=(1, 2))
X_ngrams = vectorizer.fit_transform(processed)
X_train, X_test, y_train, y_test = train_test_split(
    X_ngrams,
    y_enc,
    test_size=0.2,
    random_state=42,
    stratify=y_enc
)

TEST
