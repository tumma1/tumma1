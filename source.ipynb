{
 "cells": [
  {
   "cell_type": "code",
   "execution_count": null,
   "source": [
    "import nltk\r\n",
    "import numpy as np\r\n",
    "import pandas as pd\r\n",
    "df = pd.read_table(\"SMSSpamCollection\", header=None)\r\n",
    "df.head()\r\n",
    "df.info()\r\n",
    "y = df[0]\r\n",
    "y.value_counts()"
   ],
   "outputs": [],
   "metadata": {}
  },
  {
   "cell_type": "markdown",
   "source": [],
   "metadata": {}
  }
 ],
 "metadata": {
  "orig_nbformat": 4,
  "language_info": {
   "name": "plaintext"
  }
 },
 "nbformat": 4,
 "nbformat_minor": 2
}